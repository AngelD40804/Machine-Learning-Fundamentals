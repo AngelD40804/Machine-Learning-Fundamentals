{
  "nbformat": 4,
  "nbformat_minor": 0,
  "metadata": {
    "colab": {
      "provenance": [],
      "mount_file_id": "1aiYGTavo45tLs4WF82ZICD4GV2kDpASg",
      "authorship_tag": "ABX9TyOFUTITZFsNLxEZ9Q+qe36e",
      "include_colab_link": true
    },
    "kernelspec": {
      "name": "python3",
      "display_name": "Python 3"
    },
    "language_info": {
      "name": "python"
    }
  },
  "cells": [
    {
      "cell_type": "markdown",
      "metadata": {
        "id": "view-in-github",
        "colab_type": "text"
      },
      "source": [
        "<a href=\"https://colab.research.google.com/github/AngelD40804/Machine-Learning-Fundamentals/blob/LAB2/LAB02_ANGEL.ipynb\" target=\"_parent\"><img src=\"https://colab.research.google.com/assets/colab-badge.svg\" alt=\"Open In Colab\"/></a>"
      ]
    },
    {
      "cell_type": "code",
      "execution_count": null,
      "metadata": {
        "colab": {
          "base_uri": "https://localhost:8080/",
          "height": 432
        },
        "id": "RFNHNzVHSAiX",
        "outputId": "6a605dd5-7393-4ae9-97d5-42f6396fba15"
      },
      "outputs": [
        {
          "output_type": "display_data",
          "data": {
            "text/plain": [
              "<Figure size 640x480 with 1 Axes>"
            ],
            "image/png": "[encoded data removed]"
          },
          "metadata": {}
        }
      ],
      "source": [
        "from re import I\n",
        "import matplotlib.pyplot as plt\n",
        "import copy\n",
        "import numpy as np\n",
        "from numpy.linalg import norm\n",
        "from sklearn.cluster import KMeans\n",
        "\n",
        "loaded_points = np.load('drive/MyDrive/MLF_FILES/k_mean_points.npy')\n",
        "# print(loaded_points)\n",
        "plt.scatter(loaded_points[:,0], loaded_points[:,1])\n",
        "plt.show()\n",
        "\n",
        "k = 3\n"
      ]
    },
    {
      "cell_type": "code",
      "source": [
        "\n",
        "def init_clusters (points: np.array, k_clusters: int):\n",
        "  row_index = np.random.choice(points.shape[0], size = k_clusters, replace = False)\n",
        "  initial_clusters = points[row_index, :]\n",
        "\n",
        "  return initial_clusters\n",
        "\n",
        "\n",
        "c_n = init_clusters(loaded_points, k)\n"
      ],
      "metadata": {
        "id": "5M5gDA3sUdbv"
      },
      "execution_count": null,
      "outputs": []
    },
    {
      "cell_type": "code",
      "source": [
        "\n",
        "def dis_calc (points: np.array, centroids: np.array):\n",
        "  # My solution:\n",
        "  # calc = []\n",
        "  # for i in points:\n",
        "  #   dx = i[0] - centroids[0]\n",
        "  #   dy = i[1] - centroids[1]\n",
        "  #   d_x_y = [dx, dy]\n",
        "  #   calc.append(d_x_y)\n",
        "\n",
        "  # Best solution:\n",
        "  distances_array = np.square(norm(points - centroids, axis = 1))\n",
        "\n",
        "  return distances_array #return calc\n"
      ],
      "metadata": {
        "id": "5D7Rz8myUei4"
      },
      "execution_count": null,
      "outputs": []
    },
    {
      "cell_type": "code",
      "source": [
        "\n",
        "def dis_4_all_k (points: np.array, centroid_points: np.array):\n",
        "  # my solution:\n",
        "  # for i in centroid_points:\n",
        "  #   dis_calc(loaded_points, c_n[i])\n",
        "  # dis_array.append(dis_calc)\n",
        "\n",
        "# Best solution:\n",
        "  distance_list = []\n",
        "\n",
        "  for centroid in centroid_points:\n",
        "    distances = dis_calc(points, centroid)\n",
        "    distance_list.append(distances)\n",
        "\n",
        "  dis_array = np.asarray(distance_list)\n",
        "\n",
        "  # also:\n",
        "  dis_array = np.asarray([dis_calc(points,centroid) for centroid in centroid_points])\n",
        "\n",
        "  return dis_array\n",
        "\n",
        "dist = dis_4_all_k(loaded_points, c_n)\n",
        "# print(dist)"
      ],
      "metadata": {
        "id": "oz50Zlc4Uk5f"
      },
      "execution_count": null,
      "outputs": []
    },
    {
      "cell_type": "code",
      "source": [
        "\n",
        "def assign_cluster (distance: np.array):\n",
        "  # a_list = []\n",
        "  # id = 0\n",
        "  # for arr in distance:\n",
        "  #   value1 = [1000]\n",
        "  #   for value in arr:\n",
        "  #     id = arr.index(value)\n",
        "  #     if value < value1[0]:\n",
        "  #       value1.append(value)\n",
        "  #       value1.pop(0)\n",
        "  #     else:\n",
        "  #       value1.pop(1)\n",
        "\n",
        "\n",
        "# recommended solution:\n",
        "  assigned_centroids = np.argmin(distance, axis=0)\n",
        "  return assigned_centroids\n",
        "\n",
        "a_clust = assign_cluster(dist)"
      ],
      "metadata": {
        "id": "F_3H5Af6Uoqj"
      },
      "execution_count": null,
      "outputs": []
    },
    {
      "cell_type": "code",
      "source": [
        "print(a_clust)"
      ],
      "metadata": {
        "colab": {
          "base_uri": "https://localhost:8080/"
        },
        "id": "1Yq5yxj8NqkY",
        "outputId": "b59476d1-ac05-4245-f0c4-e22e2689370d"
      },
      "execution_count": null,
      "outputs": [
        {
          "output_type": "stream",
          "name": "stdout",
          "text": [
            "[2 2 2 2 2 2 2 2 2 2 2 2 2 2 2 2 2 2 2 2 1 2 1 1 1 1 2 1 1 1 1 1 2 2 2 1 2\n",
            " 1 1 2 0 0 0 0 1 0 1 1 1 1 1 0 0 0 1 0 0 0 0 1]\n"
          ]
        }
      ]
    },
    {
      "cell_type": "code",
      "source": [
        "def calculate_objective(assigned_centroids: np.array, distances: np.array) -> np.array:\n",
        "\n",
        "  j = np.sum(np.square(assigned_centroids))\n",
        "\n",
        "  return j\n",
        "\n"
      ],
      "metadata": {
        "id": "Ai0znqMGhJ9t"
      },
      "execution_count": null,
      "outputs": []
    },
    {
      "cell_type": "code",
      "source": [
        "def new_centroids(points: np.array, assigned_centroids: np.array, k_clusters: int) -> np.array:\n",
        "  c_points = np.array([])\n",
        "\n",
        "  for c_class in range(3):\n",
        "    avg = np.array([])\n",
        "    for index in range(2):\n",
        "      avg = np.append(avg, np.array([np.average(points[np.where(assigned_centroids == c_class),index])]))\n",
        "\n",
        "    c_points = np.append(c_points, avg)\n",
        "\n",
        "\n",
        "\n",
        "  return np.resize(c_points, (k, 2))"
      ],
      "metadata": {
        "id": "jpwN1_4DR_K0"
      },
      "execution_count": null,
      "outputs": []
    },
    {
      "cell_type": "code",
      "source": [
        "test = 1\n",
        "new_c = new_centroids(loaded_points, a_clust, k)\n",
        "while test == 1:\n",
        "\n",
        "  dist1 = dis_4_all_k(loaded_points, new_c)\n",
        "\n",
        "  a_clust1 = assign_cluster(dist1)\n",
        "  new_c1 = new_centroids(loaded_points, a_clust1, k)\n",
        "\n",
        "  new_c = np.copy(new_c1)\n",
        "\n",
        "  new_c =  new_centroids(loaded_points, a_clust1, k)\n",
        "\n",
        "  if (np.array_equal(new_c, new_c1)) == True:\n",
        "    break\n",
        "\n",
        "\n",
        "\n",
        "print(new_c)\n"
      ],
      "metadata": {
        "id": "1IApcsl-qnIR",
        "colab": {
          "base_uri": "https://localhost:8080/"
        },
        "outputId": "3fbdc8d0-e4a9-46c6-95d0-b434d88b25aa"
      },
      "execution_count": null,
      "outputs": [
        {
          "output_type": "stream",
          "name": "stdout",
          "text": [
            "[[13.4318396  15.73230278]\n",
            " [10.46706168  9.69152268]\n",
            " [ 4.72751781  4.04625832]]\n",
            "[[13.66745571 14.98568409]\n",
            " [ 9.47920596  9.00936882]\n",
            " [ 4.35659127  3.64902408]]\n",
            "[[13.66745571 14.98568409]\n",
            " [ 9.47920596  9.00936882]\n",
            " [ 4.35659127  3.64902408]]\n"
          ]
        }
      ]
    }
  ]
}